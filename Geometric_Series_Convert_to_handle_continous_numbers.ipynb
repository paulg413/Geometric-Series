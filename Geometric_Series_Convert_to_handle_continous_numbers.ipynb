{
  "nbformat": 4,
  "nbformat_minor": 0,
  "metadata": {
    "colab": {
      "name": "Geometric Series - Convert to handle continous numbers.ipynb",
      "provenance": [],
      "collapsed_sections": [],
      "authorship_tag": "ABX9TyPjma3Nj1TzkWdwsbEcD/qi",
      "include_colab_link": true
    },
    "kernelspec": {
      "name": "python3",
      "display_name": "Python 3"
    },
    "language_info": {
      "name": "python"
    }
  },
  "cells": [
    {
      "cell_type": "markdown",
      "metadata": {
        "id": "view-in-github",
        "colab_type": "text"
      },
      "source": [
        "<a href=\"https://colab.research.google.com/github/paulg413/Geometric-Series/blob/main/Geometric_Series_Convert_to_handle_continous_numbers.ipynb\" target=\"_parent\"><img src=\"https://colab.research.google.com/assets/colab-badge.svg\" alt=\"Open In Colab\"/></a>"
      ]
    },
    {
      "cell_type": "code",
      "metadata": {
        "colab": {
          "base_uri": "https://localhost:8080/",
          "height": 538
        },
        "id": "EgU_P8npLl_Z",
        "outputId": "ba59eb25-cef8-447f-cbcc-27ccdb894249"
      },
      "source": [
        "import numpy as np\n",
        "from matplotlib import pyplot as plt\n",
        "\n",
        "m=[]\n",
        "a=int(input('Enter First Term '))\n",
        "r=int(input('Enter Common Ratio '))\n",
        "n=int(input('Enter Number of Terms '))\n",
        "y=np.linspace(1,n,n,dtype=int)\n",
        "\n",
        "print('Geometric series is: ')\n",
        "i=1 \n",
        "while (i<=n):\n",
        " cr=a*(r**(i-1))\n",
        " m.append(cr)\n",
        " i=i+1 \n",
        " print (cr)\n",
        "\n",
        "print (m)\n",
        "plt.plot(y,m,'ro')\n",
        "plt.xlabel('position of terms')\n",
        "plt.ylabel('values of terms')\n",
        "plt.title('Graph of Geometric Series')\n",
        "plt.show()\n"
      ],
      "execution_count": 5,
      "outputs": [
        {
          "output_type": "stream",
          "name": "stdout",
          "text": [
            "Enter First Term 1\n",
            "Enter Common Ratio 2\n",
            "Enter Number of Terms 9\n",
            "Geometric series is: \n",
            "1\n",
            "2\n",
            "4\n",
            "8\n",
            "16\n",
            "32\n",
            "64\n",
            "128\n",
            "256\n",
            "[1, 2, 4, 8, 16, 32, 64, 128, 256]\n"
          ]
        },
        {
          "output_type": "display_data",
          "data": {
            "image/png": "[encoded data removed]",
            "text/plain": [
              "<Figure size 432x288 with 1 Axes>"
            ]
          },
          "metadata": {
            "needs_background": "light"
          }
        }
      ]
    }
  ]
}